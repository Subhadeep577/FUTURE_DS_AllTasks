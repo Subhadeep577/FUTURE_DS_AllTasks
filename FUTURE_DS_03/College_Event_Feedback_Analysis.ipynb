{
 "cells": [
  {
   "cell_type": "markdown",
   "id": "24b3685f",
   "metadata": {},
   "source": [
    "\n",
    "# 🎓 College Event Feedback Analysis – Internship Project\n",
    "\n",
    "**Intern Name:** Subhadeep Kumar Sahoo  \n",
    "**Internship Program:** Future Interns – Data Science & Analytics Internship  \n",
    "\n",
    "---\n",
    "\n",
    "## 📌 Introduction\n",
    "\n",
    "College events like workshops, cultural fests, and tech talks generate valuable feedback from students.  \n",
    "This project analyzes student feedback (ratings + comments) to uncover trends in satisfaction and identify areas of improvement.  \n",
    "\n",
    "**Objectives:**\n",
    "- Clean and prepare survey data  \n",
    "- Analyze student ratings and textual comments  \n",
    "- Perform sentiment analysis (positive/neutral/negative)  \n",
    "- Visualize results with charts & word clouds  \n",
    "- Provide actionable insights and recommendations for event organizers  \n",
    "\n",
    "**Tools & Libraries Used:**\n",
    "- Google Colab, pandas, seaborn/matplotlib  \n",
    "- TextBlob / VADER (sentiment analysis)  \n",
    "- WordCloud (feedback visualization)  \n"
   ]
  },
  {
   "cell_type": "markdown",
   "id": "85d025b3",
   "metadata": {},
   "source": [
    "## 📥 Step 1: Import Libraries & Load Dataset"
   ]
  },
  {
   "cell_type": "code",
   "execution_count": null,
   "id": "65f5d78a",
   "metadata": {},
   "outputs": [],
   "source": [
    "\n",
    "import pandas as pd\n",
    "import matplotlib.pyplot as plt\n",
    "import seaborn as sns\n",
    "\n",
    "# Load dataset (replace with actual Google Form CSV if available)\n",
    "df = pd.read_csv(\"student_event_feedback.csv\")\n",
    "\n",
    "df.head()\n"
   ]
  },
  {
   "cell_type": "markdown",
   "id": "971b0867",
   "metadata": {},
   "source": [
    "## 🧹 Step 2: Data Cleaning & Preparation"
   ]
  },
  {
   "cell_type": "code",
   "execution_count": null,
   "id": "fe105599",
   "metadata": {},
   "outputs": [],
   "source": [
    "\n",
    "# Check missing values\n",
    "df.info()\n",
    "df.isnull().sum()\n",
    "\n",
    "# Drop rows with missing essential values (if any)\n",
    "df = df.dropna(subset=[\"Rating\", \"Feedback\"])\n",
    "\n",
    "# Preview cleaned dataset\n",
    "df.head()\n"
   ]
  },
  {
   "cell_type": "markdown",
   "id": "ba042c42",
   "metadata": {},
   "source": [
    "## 📊 Step 3: Exploratory Data Analysis (EDA)"
   ]
  },
  {
   "cell_type": "code",
   "execution_count": null,
   "id": "f5be34f7",
   "metadata": {},
   "outputs": [],
   "source": [
    "\n",
    "plt.figure(figsize=(8,5))\n",
    "sns.countplot(data=df, x=\"Rating\", palette=\"Set2\")\n",
    "plt.title(\"Count of Ratings\", fontsize=14)\n",
    "plt.xlabel(\"Rating (1-5)\")\n",
    "plt.ylabel(\"Number of Responses\")\n",
    "plt.show()\n"
   ]
  },
  {
   "cell_type": "code",
   "execution_count": null,
   "id": "464f03ec",
   "metadata": {},
   "outputs": [],
   "source": [
    "\n",
    "avg_event = df.groupby(\"Event_Type\")[\"Rating\"].mean().sort_values(ascending=False)\n",
    "plt.figure(figsize=(8,5))\n",
    "sns.barplot(x=avg_event.index, y=avg_event.values, palette=\"coolwarm\")\n",
    "plt.title(\"Average Rating by Event Type\", fontsize=14)\n",
    "plt.ylabel(\"Average Rating\")\n",
    "plt.xlabel(\"Event Type\")\n",
    "plt.xticks(rotation=30)\n",
    "plt.show()\n"
   ]
  },
  {
   "cell_type": "markdown",
   "id": "3d02caca",
   "metadata": {},
   "source": [
    "## 🧠 Step 4: Sentiment Analysis"
   ]
  },
  {
   "cell_type": "code",
   "execution_count": null,
   "id": "752212d2",
   "metadata": {},
   "outputs": [],
   "source": [
    "\n",
    "# Simple rule-based sentiment (replace with VADER/TextBlob in final run)\n",
    "def simple_sentiment(text):\n",
    "    text = text.lower()\n",
    "    if any(word in text for word in [\"good\",\"great\",\"excellent\",\"amazing\",\"love\"]):\n",
    "        return \"Positive\"\n",
    "    elif any(word in text for word in [\"bad\",\"poor\",\"boring\",\"waste\",\"hate\"]):\n",
    "        return \"Negative\"\n",
    "    else:\n",
    "        return \"Neutral\"\n",
    "\n",
    "df[\"Sentiment\"] = df[\"Feedback\"].apply(simple_sentiment)\n",
    "\n",
    "df[\"Sentiment\"].value_counts()\n"
   ]
  },
  {
   "cell_type": "code",
   "execution_count": null,
   "id": "4d5f453c",
   "metadata": {},
   "outputs": [],
   "source": [
    "\n",
    "sent_counts = df['Sentiment'].value_counts()\n",
    "plt.figure(figsize=(6,6))\n",
    "plt.pie(sent_counts, labels=sent_counts.index, autopct='%1.1f%%', startangle=140, colors=sns.color_palette(\"pastel\"))\n",
    "plt.title(\"Sentiment Distribution\")\n",
    "plt.show()\n"
   ]
  },
  {
   "cell_type": "markdown",
   "id": "0f2ca39b",
   "metadata": {},
   "source": [
    "## ☁️ Step 5: Word Cloud of Feedback"
   ]
  },
  {
   "cell_type": "code",
   "execution_count": null,
   "id": "b0238ed2",
   "metadata": {},
   "outputs": [],
   "source": [
    "\n",
    "from wordcloud import WordCloud\n",
    "\n",
    "text = \" \".join(comment for comment in df[\"Feedback\"])\n",
    "wordcloud = WordCloud(width=800, height=400, background_color=\"white\", colormap=\"viridis\").generate(text)\n",
    "\n",
    "plt.figure(figsize=(10,6))\n",
    "plt.imshow(wordcloud, interpolation=\"bilinear\")\n",
    "plt.axis(\"off\")\n",
    "plt.title(\"Word Cloud of Student Feedback\")\n",
    "plt.show()\n"
   ]
  },
  {
   "cell_type": "markdown",
   "id": "0e5cd083",
   "metadata": {},
   "source": [
    "\n",
    "## 🔑 Step 6: Key Insights from Data\n",
    "\n",
    "- Most students gave ratings between **4 and 5**, showing overall good satisfaction.  \n",
    "- **Workshops and seminars** received the highest ratings compared to other event types.  \n",
    "- Sentiment analysis shows a majority of feedback is **positive**, but there are a few **negative comments** about event management.  \n",
    "- Word cloud highlights common positive words like *great, fun, helpful* as well as some negative ones like *boring, long*.  \n"
   ]
  },
  {
   "cell_type": "markdown",
   "id": "fec58f24",
   "metadata": {},
   "source": [
    "\n",
    "## ✅ Final Summary & Recommendations\n",
    "\n",
    "📌 **Summary:**  \n",
    "The feedback data suggests that students generally enjoy college events, with workshops performing the best. However, some dissatisfaction exists regarding event duration and organization.  \n",
    "\n",
    "📌 **Recommendations:**  \n",
    "- Focus on improving event logistics (time management, seating, technical setup).  \n",
    "- Increase interactive sessions in events to boost engagement.  \n",
    "- Collect more structured feedback for targeted improvements.  \n",
    "- Encourage organizers to analyze feedback regularly for continuous improvement.  \n",
    "\n",
    "---  \n",
    "**Prepared by:** Subhadeep Kumar Sahoo  \n",
    "**Internship:** Future Interns – Data Science & Analytics Internship  \n"
   ]
  }
 ],
 "metadata": {},
 "nbformat": 4,
 "nbformat_minor": 5
}
